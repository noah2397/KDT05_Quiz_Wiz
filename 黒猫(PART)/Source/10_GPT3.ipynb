{
 "cells": [
  {
   "cell_type": "code",
   "execution_count": 18,
   "metadata": {},
   "outputs": [],
   "source": [
    "from CRAWL import *\n",
    "from sklearn.feature_extraction.text import TfidfVectorizer\n",
    "from sklearn.linear_model import LogisticRegression\n",
    "from sklearn.pipeline import Pipeline\n",
    "from sklearn.model_selection import train_test_split\n",
    "from sklearn.metrics import accuracy_score\n",
    "from sklearn.metrics.pairwise import cosine_similarity\n",
    "import time"
   ]
  },
  {
   "cell_type": "code",
   "execution_count": 19,
   "metadata": {},
   "outputs": [],
   "source": [
    "def select_answer(prompt, choices):\n",
    "    # OpenAI API로 요청을 보내기 위한 설정\n",
    "    client = OpenAI(api_key=\"sk-proj-h757RT3iYezcDOkWG1uST3BlbkFJTCFpd4FNuOe5F9EgPKrR\")\n",
    "\n",
    "    # OpenAI API로 선택지를 제공하고 답변 받기\n",
    "    response = client.chat.completions.create(\n",
    "        model=\"gpt-3.5-turbo\",\n",
    "        messages=[\n",
    "            {\"role\": \"system\", \"content\": prompt},\n",
    "            {\"role\": \"user\", \"content\": choices[0]},\n",
    "            {\"role\": \"user\", \"content\": choices[1]},\n",
    "            {\"role\": \"user\", \"content\": choices[2]},\n",
    "            {\"role\": \"user\", \"content\": choices[3]}\n",
    "        ]\n",
    "    )\n",
    "    # 추론된 답 번호 반환\n",
    "    return response.choices[0].message.content\n",
    "\n",
    "def click_answer(most_similar_index):\n",
    "    if most_similar_index==0 :\n",
    "        pyautogui.click(950, 980)  \n",
    "    elif most_similar_index==1:\n",
    "        pyautogui.click(950, 1110) \n",
    "    elif most_similar_index==2:\n",
    "        pyautogui.click(950, 1244)\n",
    "    elif most_similar_index==3:\n",
    "        pyautogui.click(950, 1363) "
   ]
  },
  {
   "cell_type": "code",
   "execution_count": 10,
   "metadata": {},
   "outputs": [],
   "source": [
    "txt_list = capture_screen()\n",
    "if len(txt_list)<5:\n",
    "    print(\"선지가 없습니다.\")\n",
    "Question, Nominee = extract(txt_list)"
   ]
  },
  {
   "cell_type": "code",
   "execution_count": 11,
   "metadata": {},
   "outputs": [
    {
     "data": {
      "text/plain": [
       "('水族館でもおなじみのベルーガの別名は何 ?                      「',\n",
       " ['アオイルカ', 'シロイルカ', 'クロイルカ', 'ハイイルカ'])"
      ]
     },
     "execution_count": 11,
     "metadata": {},
     "output_type": "execute_result"
    }
   ],
   "source": [
    "print(Question, Nominee)"
   ]
  },
  {
   "cell_type": "code",
   "execution_count": 12,
   "metadata": {},
   "outputs": [
    {
     "name": "stdout",
     "output_type": "stream",
     "text": [
      "次の質問に対する答えを一つの単語で言ってくれ、ソンジをそのまま言ってくれ => \n",
      "Question : 水族館でもおなじみのベルーガの別名は何 ?                      「?\n",
      "1.アオイルカ\n",
      "2.シロイルカ\n",
      "3.クロイルカ\n",
      "4.ハイイルカ\n"
     ]
    }
   ],
   "source": [
    "\n",
    "prompt = \"次の質問に対する答えを一つの単語で言ってくれ、ソンジをそのまま言ってくれ => \\nQuestion : \"+Question +\"?\\n\"+ \"1.\"+Nominee[0] +\"\\n\"+ \"2.\"+Nominee[1] +\"\\n\"+\"3.\"+ Nominee[2] +\"\\n\"+ \"4.\"+Nominee[3]\n",
    "# 함수 호출하여 답 번호 출력\n",
    "print(prompt)\n",
    "cotae=select_answer(prompt, Nominee)"
   ]
  },
  {
   "cell_type": "code",
   "execution_count": 13,
   "metadata": {},
   "outputs": [
    {
     "name": "stdout",
     "output_type": "stream",
     "text": [
      "가장 유사도가 높은 nominee의 인덱스: 1\n"
     ]
    }
   ],
   "source": [
    "vectorizer = TfidfVectorizer()\n",
    "nominee_vectors = vectorizer.fit_transform([cotae] + [nominee for nominee in Nominee])\n",
    "similarities = cosine_similarity(nominee_vectors[0], nominee_vectors[1:])[0]\n",
    "most_similar_index = np.argmax(similarities)\n",
    "print(\"가장 유사도가 높은 nominee의 인덱스:\", most_similar_index)\n",
    "click_answer(most_similar_index)\n",
    "time.sleep(3)"
   ]
  },
  {
   "cell_type": "code",
   "execution_count": 20,
   "metadata": {},
   "outputs": [
    {
     "name": "stdout",
     "output_type": "stream",
     "text": [
      "民話にもなった 「養老の滝」の伝説で、滝の水は何に変わった ?2 ['海水', '酒', '吸い物', '牛乳']\n",
      "次の質問に対する答えを一つの単語で言ってくれ、ソンジをそのまま言ってくれ => \n",
      "Question : 民話にもなった 「養老の滝」の伝説で、滝の水は何に変わった ?2?\n",
      "1.海水\n",
      "2.酒\n",
      "3.吸い物\n",
      "4.牛乳\n",
      "가장 유사도가 높은 nominee의 인덱스: 0\n",
      "大相撲の相撲部屋はどれくらいある ? ['約300勝', '約120騰', '約200騰', '約50勝']\n",
      "次の質問に対する答えを一つの単語で言ってくれ、ソンジをそのまま言ってくれ => \n",
      "Question : 大相撲の相撲部屋はどれくらいある ??\n",
      "1.約300勝\n",
      "2.約120騰\n",
      "3.約200騰\n",
      "4.約50勝\n",
      "가장 유사도가 높은 nominee의 인덱스: 0\n",
      "仲の良い夫婦のことを、ある鳥にたとえて 「何夫婦」という? ['やまどり夫婦', 'おしどり夫婦', 'はちどり夫婦', 'むくどり夫婦']\n",
      "次の質問に対する答えを一つの単語で言ってくれ、ソンジをそのまま言ってくれ => \n",
      "Question : 仲の良い夫婦のことを、ある鳥にたとえて 「何夫婦」という??\n",
      "1.やまどり夫婦\n",
      "2.おしどり夫婦\n",
      "3.はちどり夫婦\n",
      "4.むくどり夫婦\n",
      "가장 유사도가 높은 nominee의 인덱스: 1\n",
      "観月ありさが看護師・朝倉いずみを演じたドラマ『〇〇〇のお仕事』。COに入る職業は何 ? ['デザイナー', 'ソムリエ', 'ナース', 'パイロット']\n",
      "次の質問に対する答えを一つの単語で言ってくれ、ソンジをそのまま言ってくれ => \n",
      "Question : 観月ありさが看護師・朝倉いずみを演じたドラマ『〇〇〇のお仕事』。COに入る職業は何 ??\n",
      "1.デザイナー\n",
      "2.ソムリエ\n",
      "3.ナース\n",
      "4.パイロット\n",
      "가장 유사도가 높은 nominee의 인덱스: 2\n",
      "イタリア語で「カルチョ」といえばどんなスポーツのこと2 ['野球', '水球', '提球', 'サッカー']\n",
      "次の質問に対する答えを一つの単語で言ってくれ、ソンジをそのまま言ってくれ => \n",
      "Question : イタリア語で「カルチョ」といえばどんなスポーツのこと2?\n",
      "1.野球\n",
      "2.水球\n",
      "3.提球\n",
      "4.サッカー\n",
      "가장 유사도가 높은 nominee의 인덱스: 0\n",
      "「コンデジ」「一眼レフ」といえば、どんな道具の種類? ['冷世庫', 'カメラ', '洗浴機', 'メガネ']\n",
      "次の質問に対する答えを一つの単語で言ってくれ、ソンジをそのまま言ってくれ => \n",
      "Question : 「コンデジ」「一眼レフ」といえば、どんな道具の種類??\n",
      "1.冷世庫\n",
      "2.カメラ\n",
      "3.洗浴機\n",
      "4.メガネ\n",
      "가장 유사도가 높은 nominee의 인덱스: 1\n",
      "ポルトガル語で「1月の川」という意味がある、カーニバルで有名なブラジルの都市はどこ ? ['ブラジリア', 'サンパウロ', 'リオデジャネイロ', 'サントス']\n",
      "次の質問に対する答えを一つの単語で言ってくれ、ソンジをそのまま言ってくれ => \n",
      "Question : ポルトガル語で「1月の川」という意味がある、カーニバルで有名なブラジルの都市はどこ ??\n",
      "1.ブラジリア\n",
      "2.サンパウロ\n",
      "3.リオデジャネイロ\n",
      "4.サントス\n",
      "가장 유사도가 높은 nominee의 인덱스: 2\n",
      "1月1日の国民の違日は何 ? ['衣伯', '新年', '止月', '元日']\n",
      "次の質問に対する答えを一つの単語で言ってくれ、ソンジをそのまま言ってくれ => \n",
      "Question : 1月1日の国民の違日は何 ??\n",
      "1.衣伯\n",
      "2.新年\n",
      "3.止月\n",
      "4.元日\n",
      "가장 유사도가 높은 nominee의 인덱스: 3\n",
      "『CDTV』や 『中居正広の金曜日のスマたちへ』などの番組を制作・放送しているテレビ局はどこ ? ['TBS', '日本テレビ', 'NHK', 'テレビ東京']\n",
      "次の質問に対する答えを一つの単語で言ってくれ、ソンジをそのまま言ってくれ => \n",
      "Question : 『CDTV』や 『中居正広の金曜日のスマたちへ』などの番組を制作・放送しているテレビ局はどこ ??\n",
      "1.TBS\n",
      "2.日本テレビ\n",
      "3.NHK\n",
      "4.テレビ東京\n",
      "가장 유사도가 높은 nominee의 인덱스: 0\n",
      "次の漫画のキャラクターのうち、口ボットではないのはとどれ2? ['鉄腕アトム', 'ドラえもん', '東雲なの', 'モンキー・D・ルフィ']\n",
      "次の質問に対する答えを一つの単語で言ってくれ、ソンジをそのまま言ってくれ => \n",
      "Question : 次の漫画のキャラクターのうち、口ボットではないのはとどれ2??\n",
      "1.鉄腕アトム\n",
      "2.ドラえもん\n",
      "3.東雲なの\n",
      "4.モンキー・D・ルフィ\n",
      "가장 유사도가 높은 nominee의 인덱스: 2\n"
     ]
    },
    {
     "ename": "KeyboardInterrupt",
     "evalue": "",
     "output_type": "error",
     "traceback": [
      "\u001b[1;31m---------------------------------------------------------------------------\u001b[0m",
      "\u001b[1;31mKeyboardInterrupt\u001b[0m                         Traceback (most recent call last)",
      "Cell \u001b[1;32mIn[20], line 17\u001b[0m\n\u001b[0;32m     15\u001b[0m most_similar_index \u001b[38;5;241m=\u001b[39m np\u001b[38;5;241m.\u001b[39margmax(similarities)\n\u001b[0;32m     16\u001b[0m \u001b[38;5;28mprint\u001b[39m(\u001b[38;5;124m\"\u001b[39m\u001b[38;5;124m가장 유사도가 높은 nominee의 인덱스:\u001b[39m\u001b[38;5;124m\"\u001b[39m, most_similar_index)\n\u001b[1;32m---> 17\u001b[0m \u001b[43mclick_answer\u001b[49m\u001b[43m(\u001b[49m\u001b[43mmost_similar_index\u001b[49m\u001b[43m)\u001b[49m\n\u001b[0;32m     18\u001b[0m time\u001b[38;5;241m.\u001b[39msleep(\u001b[38;5;241m3\u001b[39m)\n",
      "Cell \u001b[1;32mIn[19], line 25\u001b[0m, in \u001b[0;36mclick_answer\u001b[1;34m(most_similar_index)\u001b[0m\n\u001b[0;32m     23\u001b[0m     pyautogui\u001b[38;5;241m.\u001b[39mclick(\u001b[38;5;241m950\u001b[39m, \u001b[38;5;241m1110\u001b[39m) \n\u001b[0;32m     24\u001b[0m \u001b[38;5;28;01melif\u001b[39;00m most_similar_index\u001b[38;5;241m==\u001b[39m\u001b[38;5;241m2\u001b[39m:\n\u001b[1;32m---> 25\u001b[0m     \u001b[43mpyautogui\u001b[49m\u001b[38;5;241;43m.\u001b[39;49m\u001b[43mclick\u001b[49m\u001b[43m(\u001b[49m\u001b[38;5;241;43m950\u001b[39;49m\u001b[43m,\u001b[49m\u001b[43m \u001b[49m\u001b[38;5;241;43m1244\u001b[39;49m\u001b[43m)\u001b[49m\n\u001b[0;32m     26\u001b[0m \u001b[38;5;28;01melif\u001b[39;00m most_similar_index\u001b[38;5;241m==\u001b[39m\u001b[38;5;241m3\u001b[39m:\n\u001b[0;32m     27\u001b[0m     pyautogui\u001b[38;5;241m.\u001b[39mclick(\u001b[38;5;241m950\u001b[39m, \u001b[38;5;241m1363\u001b[39m)\n",
      "File \u001b[1;32m~\\AppData\\Roaming\\Python\\Python38\\site-packages\\pyautogui\\__init__.py:595\u001b[0m, in \u001b[0;36m_genericPyAutoGUIChecks.<locals>.wrapper\u001b[1;34m(*args, **kwargs)\u001b[0m\n\u001b[0;32m    593\u001b[0m failSafeCheck()\n\u001b[0;32m    594\u001b[0m returnVal \u001b[38;5;241m=\u001b[39m wrappedFunction(\u001b[38;5;241m*\u001b[39margs, \u001b[38;5;241m*\u001b[39m\u001b[38;5;241m*\u001b[39mkwargs)\n\u001b[1;32m--> 595\u001b[0m \u001b[43m_handlePause\u001b[49m\u001b[43m(\u001b[49m\u001b[43mkwargs\u001b[49m\u001b[38;5;241;43m.\u001b[39;49m\u001b[43mget\u001b[49m\u001b[43m(\u001b[49m\u001b[38;5;124;43m\"\u001b[39;49m\u001b[38;5;124;43m_pause\u001b[39;49m\u001b[38;5;124;43m\"\u001b[39;49m\u001b[43m,\u001b[49m\u001b[43m \u001b[49m\u001b[38;5;28;43;01mTrue\u001b[39;49;00m\u001b[43m)\u001b[49m\u001b[43m)\u001b[49m\n\u001b[0;32m    596\u001b[0m \u001b[38;5;28;01mreturn\u001b[39;00m returnVal\n",
      "File \u001b[1;32m~\\AppData\\Roaming\\Python\\Python38\\site-packages\\pyautogui\\__init__.py:639\u001b[0m, in \u001b[0;36m_handlePause\u001b[1;34m(_pause)\u001b[0m\n\u001b[0;32m    637\u001b[0m \u001b[38;5;28;01mif\u001b[39;00m _pause:\n\u001b[0;32m    638\u001b[0m     \u001b[38;5;28;01massert\u001b[39;00m \u001b[38;5;28misinstance\u001b[39m(PAUSE, \u001b[38;5;28mint\u001b[39m) \u001b[38;5;129;01mor\u001b[39;00m \u001b[38;5;28misinstance\u001b[39m(PAUSE, \u001b[38;5;28mfloat\u001b[39m)\n\u001b[1;32m--> 639\u001b[0m     \u001b[43mtime\u001b[49m\u001b[38;5;241;43m.\u001b[39;49m\u001b[43msleep\u001b[49m\u001b[43m(\u001b[49m\u001b[43mPAUSE\u001b[49m\u001b[43m)\u001b[49m\n",
      "\u001b[1;31mKeyboardInterrupt\u001b[0m: "
     ]
    }
   ],
   "source": [
    "while True:\n",
    "    txt_list = capture_screen()\n",
    "    if len(txt_list)<5:\n",
    "        print(\"선지가 없습니다.\")\n",
    "    Question, Nominee = extract(txt_list)\n",
    "    print(Question, Nominee)\n",
    "\n",
    "    prompt = \"次の質問に対する答えを一つの単語で言ってくれ、ソンジをそのまま言ってくれ => \\nQuestion : \"+Question +\"?\\n\"+ \"1.\"+Nominee[0] +\"\\n\"+ \"2.\"+Nominee[1] +\"\\n\"+\"3.\"+ Nominee[2] +\"\\n\"+ \"4.\"+Nominee[3]\n",
    "    # 함수 호출하여 답 번호 출력\n",
    "    print(prompt)\n",
    "    cotae=select_answer(prompt, Nominee)\n",
    "    vectorizer = TfidfVectorizer()\n",
    "    nominee_vectors = vectorizer.fit_transform([cotae] + [nominee for nominee in Nominee])\n",
    "    similarities = cosine_similarity(nominee_vectors[0], nominee_vectors[1:])[0]\n",
    "    most_similar_index = np.argmax(similarities)\n",
    "    print(\"가장 유사도가 높은 nominee의 인덱스:\", most_similar_index)\n",
    "    click_answer(most_similar_index)\n",
    "    time.sleep(3)"
   ]
  },
  {
   "cell_type": "code",
   "execution_count": null,
   "metadata": {},
   "outputs": [],
   "source": []
  }
 ],
 "metadata": {
  "kernelspec": {
   "display_name": "Quick",
   "language": "python",
   "name": "python3"
  },
  "language_info": {
   "codemirror_mode": {
    "name": "ipython",
    "version": 3
   },
   "file_extension": ".py",
   "mimetype": "text/x-python",
   "name": "python",
   "nbconvert_exporter": "python",
   "pygments_lexer": "ipython3",
   "version": "3.8.19"
  }
 },
 "nbformat": 4,
 "nbformat_minor": 2
}
