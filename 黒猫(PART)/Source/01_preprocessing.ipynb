{
 "cells": [
  {
   "cell_type": "code",
   "execution_count": 6,
   "metadata": {},
   "outputs": [],
   "source": [
    "import pandas as pd\n",
    "\n",
    "df = pd.read_csv(\"../Data/Unprocess.csv\")\n",
    "# df의 \"A\"열이 '\\x0c'와 다른 것만 저장\n",
    "df = df[df[\"A\"] != '\\x0c']\n",
    "# duplicated를 사용하여 Q열에 중복되는 데이터 제거\n",
    "df = df.drop_duplicates(subset=[\"Q\", \"A\"])\n",
    "df.to_csv(\"../Data/Unprocess.csv\", index=False)"
   ]
  },
  {
   "cell_type": "code",
   "execution_count": 7,
   "metadata": {},
   "outputs": [
    {
     "name": "stdout",
     "output_type": "stream",
     "text": [
      "<class 'pandas.core.frame.DataFrame'>\n",
      "RangeIndex: 19762 entries, 0 to 19761\n",
      "Data columns (total 7 columns):\n",
      " #   Column    Non-Null Count  Dtype \n",
      "---  ------    --------------  ----- \n",
      " 0   Q         19762 non-null  object\n",
      " 1   Category  19762 non-null  object\n",
      " 2   K1        19762 non-null  object\n",
      " 3   K2        19762 non-null  object\n",
      " 4   K3        19762 non-null  object\n",
      " 5   K4        19762 non-null  object\n",
      " 6   A         19762 non-null  object\n",
      "dtypes: object(7)\n",
      "memory usage: 1.1+ MB\n"
     ]
    }
   ],
   "source": [
    "df.info()"
   ]
  },
  {
   "cell_type": "code",
   "execution_count": 8,
   "metadata": {},
   "outputs": [
    {
     "data": {
      "text/plain": [
       "Category\n",
       "理系          3933\n",
       "芸能          3576\n",
       "雑学          3203\n",
       "スポーツ        3063\n",
       "文系          3063\n",
       "アニメゲーム      2923\n",
       "Category       1\n",
       "Name: count, dtype: int64"
      ]
     },
     "execution_count": 8,
     "metadata": {},
     "output_type": "execute_result"
    }
   ],
   "source": [
    "df.Category.value_counts()\n",
    "\n",
    "# 열 내용 변경 : 1. アニメゲがゲーム -> アニメゲーム 로 변경\n",
    "#               2. だっ -> 雑学으로 변경\n",
    "#               3. レちで -> スポーツ 로 변경\n",
    "df = pd.read_csv(\"../Data/Unprocess.csv\")\n",
    "df.loc[df[\"Category\"] == \" アニメゲがゲーム\", \"Category\"] = \"アニメゲーム\"\n",
    "df.loc[df[\"Category\"] == \"だっ\", \"Category\"] = \"雑学\"\n",
    "df.loc[df[\"Category\"] == \"レちで\", \"Category\"] = \"スポーツ\"\n",
    "\n",
    "df.to_csv(\"../Data/Unprocess.csv\", index=False)\n",
    "df.Category.value_counts()"
   ]
  },
  {
   "cell_type": "code",
   "execution_count": 9,
   "metadata": {},
   "outputs": [],
   "source": [
    "# 해당 unique값을 바탕으로 6개의 DF생성 후 파일로 저장\n",
    "for i in df.Category.unique():\n",
    "    df_temp = df[df[\"Category\"] == i]\n",
    "    df_temp.to_csv(f\"../Data/{i}.csv\", index=False)"
   ]
  },
  {
   "cell_type": "code",
   "execution_count": 10,
   "metadata": {},
   "outputs": [
    {
     "data": {
      "text/plain": [
       "array(['雑学', 'スポーツ', '理系', '芸能', 'アニメゲーム', '文系', 'Category'], dtype=object)"
      ]
     },
     "execution_count": 10,
     "metadata": {},
     "output_type": "execute_result"
    }
   ],
   "source": [
    "df.Category.unique()"
   ]
  },
  {
   "cell_type": "code",
   "execution_count": null,
   "metadata": {},
   "outputs": [],
   "source": []
  }
 ],
 "metadata": {
  "kernelspec": {
   "display_name": "TEXT_017_220_38",
   "language": "python",
   "name": "python3"
  },
  "language_info": {
   "codemirror_mode": {
    "name": "ipython",
    "version": 3
   },
   "file_extension": ".py",
   "mimetype": "text/x-python",
   "name": "python",
   "nbconvert_exporter": "python",
   "pygments_lexer": "ipython3",
   "version": "3.8.19"
  }
 },
 "nbformat": 4,
 "nbformat_minor": 2
}
