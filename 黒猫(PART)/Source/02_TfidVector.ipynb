{
 "cells": [
  {
   "cell_type": "code",
   "execution_count": 1,
   "id": "a49f8cc3",
   "metadata": {},
   "outputs": [],
   "source": [
    "import pandas as pd\n",
    "from Korpora import Korpora\n",
    "from konlpy.tag import Okt\n",
    "# 일본어 tokenize import\n",
    "from janome.tokenizer import Tokenizer\n",
    "from sklearn.feature_extraction.text import TfidfVectorizer\n",
    "from sklearn.naive_bayes import MultinomialNB\n",
    "from sklearn.pipeline import make_pipeline\n",
    "from joblib import dump\n",
    "from joblib import load"
   ]
  },
  {
   "cell_type": "code",
   "execution_count": 2,
   "id": "08c857be",
   "metadata": {},
   "outputs": [],
   "source": [
    "Genre = ['雑学', 'スポーツ', '理系', '芸能', 'アニメゲーム', '文系']\n",
    "\n",
    "for i in Genre:\n",
    "    df = pd.read_csv(f\"../Data/{i}.csv\", usecols =[\"Q\",\"K1\",\"K2\",\"K3\",\"K4\",\"A\"])\n",
    "\n",
    "    # 각 열을 문자열로 합쳐서 튜플 리스트 생성\n",
    "    QnA = [(q + \":\" + k1 +\",\"+ k2 +\",\"+ k3 +\",\"+ k4, index, a) for index, q, k1, k2, k3, k4, a in zip(df.index, df['Q'], df['K1'], df['K2'], df['K3'], df['K4'], df[\"A\"])]\n",
    "\n",
    "    data = [(Question, index) for Question, index, Answer in QnA]\n",
    "    # 텍스트 벡터화와 분류 모델을 포함한 파이프라인 생성\n",
    "    model = make_pipeline(\n",
    "        TfidfVectorizer(),\n",
    "        MultinomialNB()\n",
    "    )\n",
    "    # 모델 학습\n",
    "    X_train = [item[0] for item in data]\n",
    "    y_train = [item[1] for item in data]\n",
    "    model.fit(X_train, y_train)\n",
    "    # 모델 저장\n",
    "    dump(model, f'../Model/sim_{i}.joblib')"
   ]
  },
  {
   "cell_type": "code",
   "execution_count": 3,
   "id": "5fa0742f",
   "metadata": {},
   "outputs": [],
   "source": [
    "# 모델 로드\n",
    "model = load(f'../Model/sim_{Genre[5]}.joblib')"
   ]
  },
  {
   "cell_type": "code",
   "execution_count": 4,
   "id": "82db1c00",
   "metadata": {},
   "outputs": [
    {
     "data": {
      "text/plain": [
       "('次のうち、「北方領土」に含まれる島々はどれ2:隠岐諸島,小笠原諸島,歯舞群島,但美群島', 2099, '歯舞群島')"
      ]
     },
     "execution_count": 4,
     "metadata": {},
     "output_type": "execute_result"
    }
   ],
   "source": [
    "# 입력 문장을 예측\n",
    "input_text = \"\"\"次のうち、「北方領土」に含まれる島々はどれ2,文系,隠岐諸島,小笠原諸島,歯舞群島,但美群島\"\"\"\n",
    "predicted_label = model.predict([input_text])[0]\n",
    "\n",
    "# 예측된 레이블 출력\n",
    "QnA[predicted_label]"
   ]
  },
  {
   "cell_type": "code",
   "execution_count": null,
   "id": "6afbc109",
   "metadata": {},
   "outputs": [],
   "source": []
  }
 ],
 "metadata": {
  "kernelspec": {
   "display_name": "Python 3 (ipykernel)",
   "language": "python",
   "name": "python3"
  },
  "language_info": {
   "codemirror_mode": {
    "name": "ipython",
    "version": 3
   },
   "file_extension": ".py",
   "mimetype": "text/x-python",
   "name": "python",
   "nbconvert_exporter": "python",
   "pygments_lexer": "ipython3",
   "version": "3.8.19"
  }
 },
 "nbformat": 4,
 "nbformat_minor": 5
}
