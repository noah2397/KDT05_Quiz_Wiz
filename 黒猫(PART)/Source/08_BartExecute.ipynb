{
 "cells": [
  {
   "cell_type": "code",
   "execution_count": 13,
   "metadata": {},
   "outputs": [
    {
     "name": "stderr",
     "output_type": "stream",
     "text": [
      "You are using the default legacy behaviour of the <class 'transformers.models.t5.tokenization_t5.T5Tokenizer'>. This is expected, and simply means that the `legacy` (previous) behavior will be used so nothing changes for you. If you want to use the new behaviour, set `legacy=False`. This should only be set if you understand what it means, and thoroughly read the reason why this was added as explained in https://github.com/huggingface/transformers/pull/24565\n",
      "Special tokens have been added in the vocabulary, make sure the associated word embeddings are fine-tuned or trained.\n"
     ]
    }
   ],
   "source": [
    "from transformers import BartForConditionalGeneration\n",
    "from transformers import T5ForConditionalGeneration\n",
    "import torch\n",
    "from CRAWL import *\n",
    "from sklearn.feature_extraction.text import TfidfVectorizer\n",
    "from sklearn.metrics.pairwise import cosine_similarity\n",
    "import numpy as np\n",
    "import time\n",
    "from transformers import pipeline\n",
    "from transformers import BartTokenizer\n",
    "from transformers import T5Tokenizer\n",
    "import pyautogui\n",
    "\n",
    "flag=1\n",
    "device = \"cuda\" if torch.cuda.is_available() else \"cpu\"\n",
    "if flag==0: # Bart모델 사용\n",
    "    model = BartForConditionalGeneration.from_pretrained(\n",
    "        pretrained_model_name_or_path=\"facebook/bart-base\"\n",
    "    ).to(device)\n",
    "    model.load_state_dict(torch.load(\"./Model/Bart.pt\", map_location=torch.device('cpu')))\n",
    "    tokenizer = BartTokenizer.from_pretrained(\n",
    "    pretrained_model_name_or_path=\"facebook/bart-base\"\n",
    "    )\n",
    "    summarizer = pipeline(\n",
    "        task=\"summarization\",\n",
    "        model=model,\n",
    "        tokenizer=tokenizer,\n",
    "        max_length=54,\n",
    "        device=\"cpu\"\n",
    "    )\n",
    "else :  # T5 모델 사용\n",
    "    model = T5ForConditionalGeneration.from_pretrained(\n",
    "        pretrained_model_name_or_path=\"t5-small\",\n",
    "    ).to(device)\n",
    "    model.load_state_dict(torch.load(\"./Model/T5.pt\", map_location=torch.device('cpu')))\n",
    "    tokenizer = T5Tokenizer.from_pretrained(\n",
    "    pretrained_model_name_or_path=\"t5-small\"\n",
    ")\n",
    "\n",
    "    summarizer = pipeline(\n",
    "    task=\"summarization\",\n",
    "    model=model,\n",
    "    tokenizer=tokenizer,\n",
    "    max_length=128,\n",
    "    device=\"cpu\"\n",
    ")"
   ]
  },
  {
   "cell_type": "code",
   "execution_count": 14,
   "metadata": {},
   "outputs": [],
   "source": [
    "\n",
    "# 화면 클릭 함수\n",
    "def click_answer(most_similar_index):\n",
    "    if most_similar_index==0 :\n",
    "        pyautogui.click(950, 980)  \n",
    "    elif most_similar_index==1:\n",
    "        pyautogui.click(950, 1110) \n",
    "    elif most_similar_index==2:\n",
    "        pyautogui.click(950, 1244)\n",
    "    elif most_similar_index==3:\n",
    "        pyautogui.click(950, 1363) \n",
    "        \n"
   ]
  },
  {
   "cell_type": "code",
   "execution_count": 16,
   "metadata": {},
   "outputs": [
    {
     "name": "stderr",
     "output_type": "stream",
     "text": [
      "Your max_length is set to 128, but your input_length is only 16. Since this is a summarization task, where outputs shorter than the input are typically wanted, you might consider decreasing max_length manually, e.g. summarizer('...', max_length=8)\n"
     ]
    },
    {
     "name": "stdout",
     "output_type": "stream",
     "text": [
      "모델 요약문 : - , . .  () - ' !\n",
      "\n",
      "가장 유사도가 높은 nominee의 인덱스: 0\n"
     ]
    },
    {
     "name": "stderr",
     "output_type": "stream",
     "text": [
      "Your max_length is set to 128, but your input_length is only 17. Since this is a summarization task, where outputs shorter than the input are typically wanted, you might consider decreasing max_length manually, e.g. summarizer('...', max_length=8)\n"
     ]
    },
    {
     "name": "stdout",
     "output_type": "stream",
     "text": [
      "모델 요약문 : ? , . .  ( ) ' ! !\n",
      "\n",
      "가장 유사도가 높은 nominee의 인덱스: 0\n"
     ]
    },
    {
     "name": "stderr",
     "output_type": "stream",
     "text": [
      "Your max_length is set to 128, but your input_length is only 17. Since this is a summarization task, where outputs shorter than the input are typically wanted, you might consider decreasing max_length manually, e.g. summarizer('...', max_length=8)\n"
     ]
    },
    {
     "name": "stdout",
     "output_type": "stream",
     "text": [
      "모델 요약문 : ? , . .  ( ) - ! (\n",
      "\n",
      "가장 유사도가 높은 nominee의 인덱스: 0\n"
     ]
    },
    {
     "name": "stderr",
     "output_type": "stream",
     "text": [
      "Your max_length is set to 128, but your input_length is only 23. Since this is a summarization task, where outputs shorter than the input are typically wanted, you might consider decreasing max_length manually, e.g. summarizer('...', max_length=11)\n"
     ]
    },
    {
     "name": "stdout",
     "output_type": "stream",
     "text": [
      "모델 요약문 : OOOO  ? , . .  ! 'OOo\n",
      "\n",
      "가장 유사도가 높은 nominee의 인덱스: 0\n"
     ]
    },
    {
     "name": "stderr",
     "output_type": "stream",
     "text": [
      "Your max_length is set to 128, but your input_length is only 15. Since this is a summarization task, where outputs shorter than the input are typically wanted, you might consider decreasing max_length manually, e.g. summarizer('...', max_length=7)\n"
     ]
    },
    {
     "name": "stdout",
     "output_type": "stream",
     "text": [
      "모델 요약문 : ?2 . , & ' !  ( / 0\n",
      "\n",
      "가장 유사도가 높은 nominee의 인덱스: 0\n"
     ]
    },
    {
     "name": "stderr",
     "output_type": "stream",
     "text": [
      "Your max_length is set to 128, but your input_length is only 15. Since this is a summarization task, where outputs shorter than the input are typically wanted, you might consider decreasing max_length manually, e.g. summarizer('...', max_length=7)\n"
     ]
    },
    {
     "name": "stdout",
     "output_type": "stream",
     "text": [
      "모델 요약문 : 2?,,  . '2? , .,' 1?\n",
      "\n",
      "가장 유사도가 높은 nominee의 인덱스: 0\n"
     ]
    },
    {
     "name": "stderr",
     "output_type": "stream",
     "text": [
      "Your max_length is set to 128, but your input_length is only 14. Since this is a summarization task, where outputs shorter than the input are typically wanted, you might consider decreasing max_length manually, e.g. summarizer('...', max_length=7)\n"
     ]
    },
    {
     "name": "stdout",
     "output_type": "stream",
     "text": [
      "모델 요약문 : ?,,  . ' ? , .. !\n",
      "\n",
      "가장 유사도가 높은 nominee의 인덱스: 0\n"
     ]
    },
    {
     "name": "stderr",
     "output_type": "stream",
     "text": [
      "Your max_length is set to 128, but your input_length is only 17. Since this is a summarization task, where outputs shorter than the input are typically wanted, you might consider decreasing max_length manually, e.g. summarizer('...', max_length=8)\n"
     ]
    },
    {
     "name": "stdout",
     "output_type": "stream",
     "text": [
      "모델 요약문 : ? , . .  ( ) ' ! !\n",
      "\n",
      "가장 유사도가 높은 nominee의 인덱스: 0\n"
     ]
    },
    {
     "name": "stderr",
     "output_type": "stream",
     "text": [
      "Your max_length is set to 128, but your input_length is only 14. Since this is a summarization task, where outputs shorter than the input are typically wanted, you might consider decreasing max_length manually, e.g. summarizer('...', max_length=7)\n"
     ]
    },
    {
     "name": "stdout",
     "output_type": "stream",
     "text": [
      "모델 요약문 : ?,,  . ' ? , .. !\n",
      "\n",
      "가장 유사도가 높은 nominee의 인덱스: 0\n"
     ]
    },
    {
     "name": "stderr",
     "output_type": "stream",
     "text": [
      "Your max_length is set to 128, but your input_length is only 15. Since this is a summarization task, where outputs shorter than the input are typically wanted, you might consider decreasing max_length manually, e.g. summarizer('...', max_length=7)\n"
     ]
    },
    {
     "name": "stdout",
     "output_type": "stream",
     "text": [
      "모델 요약문 : ? , . . !  ( ' ! '\n",
      "\n",
      "가장 유사도가 높은 nominee의 인덱스: 0\n"
     ]
    },
    {
     "ename": "KeyboardInterrupt",
     "evalue": "",
     "output_type": "error",
     "traceback": [
      "\u001b[1;31m---------------------------------------------------------------------------\u001b[0m",
      "\u001b[1;31mKeyboardInterrupt\u001b[0m                         Traceback (most recent call last)",
      "Cell \u001b[1;32mIn[16], line 25\u001b[0m\n\u001b[0;32m     22\u001b[0m \u001b[38;5;28mprint\u001b[39m(\u001b[38;5;124m\"\u001b[39m\u001b[38;5;124m가장 유사도가 높은 nominee의 인덱스:\u001b[39m\u001b[38;5;124m\"\u001b[39m, most_similar_index)\n\u001b[0;32m     24\u001b[0m click_answer(most_similar_index)\n\u001b[1;32m---> 25\u001b[0m \u001b[43mtime\u001b[49m\u001b[38;5;241;43m.\u001b[39;49m\u001b[43msleep\u001b[49m\u001b[43m(\u001b[49m\u001b[38;5;241;43m3\u001b[39;49m\u001b[43m)\u001b[49m\n",
      "\u001b[1;31mKeyboardInterrupt\u001b[0m: "
     ]
    }
   ],
   "source": [
    "while True:\n",
    "    txt_list = capture_screen()\n",
    "    if len(txt_list)<5:\n",
    "        print(\"선지가 없습니다.\")\n",
    "    Question, Nominee = extract(txt_list)\n",
    "    news_text = \",\".join((Question, Nominee[0], Nominee[1], Nominee[2], Nominee[3]))\n",
    "    predicted_summarization = summarizer(news_text)[0][\"summary_text\"]\n",
    "    print(f\"모델 요약문 : {predicted_summarization}\\n\")\n",
    "\n",
    "\n",
    "    # 문장 벡터화\n",
    "    vectorizer = TfidfVectorizer()\n",
    "    nominee_vectors = vectorizer.fit_transform([predicted_summarization] + [nominee for nominee in Nominee])\n",
    "\n",
    "    # 각 nominee와 예측된 문장 간의 유사도 계산\n",
    "    similarities = cosine_similarity(nominee_vectors[0], nominee_vectors[1:])[0]\n",
    "\n",
    "    # 가장 높은 유사도를 가지는 nominee의 인덱스 찾기\n",
    "    most_similar_index = np.argmax(similarities)\n",
    "\n",
    "    # 결과 출력\n",
    "    print(\"가장 유사도가 높은 nominee의 인덱스:\", most_similar_index)\n",
    "\n",
    "    click_answer(most_similar_index)\n",
    "    time.sleep(3)"
   ]
  },
  {
   "cell_type": "code",
   "execution_count": null,
   "metadata": {},
   "outputs": [],
   "source": []
  }
 ],
 "metadata": {
  "kernelspec": {
   "display_name": "TEXT_017_220_38",
   "language": "python",
   "name": "python3"
  },
  "language_info": {
   "codemirror_mode": {
    "name": "ipython",
    "version": 3
   },
   "file_extension": ".py",
   "mimetype": "text/x-python",
   "name": "python",
   "nbconvert_exporter": "python",
   "pygments_lexer": "ipython3",
   "version": "3.8.19"
  }
 },
 "nbformat": 4,
 "nbformat_minor": 2
}
