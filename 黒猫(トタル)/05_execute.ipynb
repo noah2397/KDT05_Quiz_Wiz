{
 "cells": [
  {
   "cell_type": "code",
   "execution_count": 1,
   "metadata": {},
   "outputs": [
    {
     "name": "stderr",
     "output_type": "stream",
     "text": [
      "c:\\ProgramData\\anaconda3\\envs\\TEXT_017_220_38\\lib\\site-packages\\sklearn\\base.py:347: InconsistentVersionWarning: Trying to unpickle estimator TfidfTransformer from version 1.3.2 when using version 1.3.0. This might lead to breaking code or invalid results. Use at your own risk. For more info please refer to:\n",
      "https://scikit-learn.org/stable/model_persistence.html#security-maintainability-limitations\n",
      "  warnings.warn(\n",
      "c:\\ProgramData\\anaconda3\\envs\\TEXT_017_220_38\\lib\\site-packages\\sklearn\\base.py:347: InconsistentVersionWarning: Trying to unpickle estimator TfidfVectorizer from version 1.3.2 when using version 1.3.0. This might lead to breaking code or invalid results. Use at your own risk. For more info please refer to:\n",
      "https://scikit-learn.org/stable/model_persistence.html#security-maintainability-limitations\n",
      "  warnings.warn(\n",
      "c:\\ProgramData\\anaconda3\\envs\\TEXT_017_220_38\\lib\\site-packages\\sklearn\\base.py:347: InconsistentVersionWarning: Trying to unpickle estimator MultinomialNB from version 1.3.2 when using version 1.3.0. This might lead to breaking code or invalid results. Use at your own risk. For more info please refer to:\n",
      "https://scikit-learn.org/stable/model_persistence.html#security-maintainability-limitations\n",
      "  warnings.warn(\n",
      "c:\\ProgramData\\anaconda3\\envs\\TEXT_017_220_38\\lib\\site-packages\\sklearn\\base.py:347: InconsistentVersionWarning: Trying to unpickle estimator Pipeline from version 1.3.2 when using version 1.3.0. This might lead to breaking code or invalid results. Use at your own risk. For more info please refer to:\n",
      "https://scikit-learn.org/stable/model_persistence.html#security-maintainability-limitations\n",
      "  warnings.warn(\n"
     ]
    }
   ],
   "source": [
    "from joblib import load\n",
    "# 유사도 모델 로드 \n",
    "model = load('./Model/simil.joblib')"
   ]
  },
  {
   "cell_type": "code",
   "execution_count": 2,
   "metadata": {},
   "outputs": [],
   "source": [
    "import pyautogui\n",
    "from CRAWL import *\n",
    "\n",
    "# 화면 클릭 함수\n",
    "def click_answer(most_similar_index):\n",
    "    if most_similar_index==0 :\n",
    "        pyautogui.click(950, 980)  \n",
    "    elif most_similar_index==1:\n",
    "        pyautogui.click(950, 1110) \n",
    "    elif most_similar_index==2:\n",
    "        pyautogui.click(950, 1244)\n",
    "    elif most_similar_index==3:\n",
    "        pyautogui.click(950, 1363) "
   ]
  },
  {
   "cell_type": "code",
   "execution_count": 3,
   "metadata": {},
   "outputs": [],
   "source": [
    "import pandas as pd\n",
    "\n",
    "# 데이터프레임 불러오기\n",
    "df = pd.read_csv(\"./Data/LOW2.csv\")\n",
    "\n",
    "\n",
    "# 각 열을 문자열로 합쳐서 튜플 리스트 생성\n",
    "QnA = [(q + \":\" + k1 +\",\"+ k2 +\",\"+ k3 +\",\"+ k4, index, a) for index, q, k1, k2, k3, k4, a in zip(df.index, df['Q'], df['K1'], df['K2'], df['K3'], df['K4'], df[\"A\"])]"
   ]
  },
  {
   "cell_type": "code",
   "execution_count": 4,
   "metadata": {},
   "outputs": [
    {
     "name": "stdout",
     "output_type": "stream",
     "text": [
      "가장 유사도가 높은 nominee의 인덱스: 3\n",
      "가장 유사도가 높은 nominee의 인덱스: 0\n",
      "가장 유사도가 높은 nominee의 인덱스: 0\n",
      "가장 유사도가 높은 nominee의 인덱스: 3\n",
      "가장 유사도가 높은 nominee의 인덱스: 1\n",
      "가장 유사도가 높은 nominee의 인덱스: 0\n",
      "가장 유사도가 높은 nominee의 인덱스: 3\n",
      "가장 유사도가 높은 nominee의 인덱스: 1\n",
      "가장 유사도가 높은 nominee의 인덱스: 3\n",
      "가장 유사도가 높은 nominee의 인덱스: 0\n"
     ]
    }
   ],
   "source": [
    "# 문제 맞추기 시작\n",
    "while True:\n",
    "    txt_list = capture_screen()\n",
    "    if len(txt_list)<5:\n",
    "        print(\"선지가 없습니다.\")\n",
    "    Question, Nominee = extract(txt_list)\n",
    "\n",
    "    \",\".join((Question, Nominee[0], Nominee[1], Nominee[2], Nominee[3]))\n",
    "    # 입력 문장을 예측\n",
    "    input_text =\",\".join((Question, Nominee[0], Nominee[1], Nominee[2], Nominee[3]))\n",
    "    predicted_label = model.predict([input_text])[0]\n",
    "    QnA[predicted_label]\n",
    "    from sklearn.feature_extraction.text import TfidfVectorizer\n",
    "    from sklearn.metrics.pairwise import cosine_similarity\n",
    "    import numpy as np\n",
    "\n",
    "    # 예측된 레이블에 해당하는 질문 가져오기\n",
    "    predicted_question = QnA[predicted_label][2]\n",
    "\n",
    "    # 문장 벡터화\n",
    "    vectorizer = TfidfVectorizer()\n",
    "    nominee_vectors = vectorizer.fit_transform([predicted_question] + [nominee for nominee in Nominee])\n",
    "\n",
    "    # 각 nominee와 예측된 문장 간의 유사도 계산\n",
    "    similarities = cosine_similarity(nominee_vectors[0], nominee_vectors[1:])[0]\n",
    "\n",
    "    # 가장 높은 유사도를 가지는 nominee의 인덱스 찾기\n",
    "    most_similar_index = np.argmax(similarities)\n",
    "\n",
    "    # 결과 출력\n",
    "    print(\"가장 유사도가 높은 nominee의 인덱스:\", most_similar_index)\n",
    "    click_answer(most_similar_index)\n",
    "    time.sleep(3)"
   ]
  },
  {
   "cell_type": "code",
   "execution_count": null,
   "metadata": {},
   "outputs": [],
   "source": []
  }
 ],
 "metadata": {
  "kernelspec": {
   "display_name": "TEXT_017_220_38",
   "language": "python",
   "name": "python3"
  },
  "language_info": {
   "codemirror_mode": {
    "name": "ipython",
    "version": 3
   },
   "file_extension": ".py",
   "mimetype": "text/x-python",
   "name": "python",
   "nbconvert_exporter": "python",
   "pygments_lexer": "ipython3",
   "version": "3.8.19"
  }
 },
 "nbformat": 4,
 "nbformat_minor": 2
}
